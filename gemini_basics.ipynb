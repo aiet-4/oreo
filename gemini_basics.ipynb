{
 "cells": [
  {
   "cell_type": "markdown",
   "id": "47715a77",
   "metadata": {},
   "source": [
    "## Gemini API Basics with Python\n"
   ]
  },
  {
   "cell_type": "markdown",
   "id": "a4f5de86",
   "metadata": {},
   "source": [
    "### 1. Introduction\n"
   ]
  },
  {
   "cell_type": "markdown",
   "id": "61710415",
   "metadata": {},
   "source": [
    "-   What is Gemini API?\n",
    "\n",
    "    -   Gemini API provides access to Google’s latest generative AI models, supporting text, image, and multimodal tasks.\n",
    "\n",
    "-   What will you learn?\n",
    "    -   How to set up and authenticate with the Gemini API\n",
    "    -   How to make your first API call\n",
    "    -   How to experiment with prompts and parameters\n",
    "    -   How to handle responses and errors\n"
   ]
  },
  {
   "cell_type": "markdown",
   "id": "0f84aa5e",
   "metadata": {},
   "source": [
    "---\n"
   ]
  },
  {
   "cell_type": "markdown",
   "id": "2af0d496",
   "metadata": {},
   "source": [
    "### Steps to Get a Gemini API Key\n"
   ]
  },
  {
   "cell_type": "markdown",
   "id": "34b9e586",
   "metadata": {},
   "source": [
    "Follow these steps to obtain and securely use your Gemini API key:\n",
    "\n",
    "**1. Sign in to Google AI Studio**\n",
    "\n",
    "-   Go to [Google AI Studio](https://aistudio.google.com) and sign in with your Google account.\n",
    "\n",
    "**2. Access the Gemini API Section**\n",
    "\n",
    "-   Once signed in, navigate to the “Gemini API” tab or look for a button labeled “Get API key in Google AI Studio”.\n",
    "\n",
    "**3. Create a New API Key**\n",
    "\n",
    "-   Click the “Get API key” button.\n",
    "-   If prompted, review and accept the Terms of Service.\n",
    "\n",
    "**4. Choose or Create a Project**\n",
    "\n",
    "-   You may be asked to create a new project or select an existing one. Choose as appropriate.\n",
    "\n",
    "**5. Copy Your API Key**\n",
    "\n",
    "-   After creation, your API key will be displayed. Copy it and store it securely. **Do not share this key publicly**.\n",
    "\n",
    "**6. Set Up the API Key in Your Environment**\n",
    "\n",
    "-   For security, set your API key as an environment variable rather than hard-coding it in your scripts.\n",
    "\n",
    "    -   **Linux/macOS (Bash):**\n",
    "\n",
    "        ```bash\n",
    "        export GEMINI_API_KEY=your_key_here\n",
    "        ```\n",
    "\n",
    "        Add this line to your `~/.bashrc` or `~/.zshrc` and run `source ~/.bashrc` or `source ~/.zshrc` to apply changes.\n",
    "\n",
    "    -   **Windows:**\n",
    "        -   Search for \"Environment Variables\" in system settings.\n",
    "        -   Add a new user or system variable named `GEMINI_API_KEY` with your key as the value.\n",
    "\n",
    "**7. Use the API Key in Your Application**\n",
    "\n",
    "-   In your code, access the environment variable to authenticate Gemini API requests.\n",
    "\n",
    "**8. Keep Your API Key Secure**\n",
    "\n",
    "-   Never share your API key or commit it to public repositories.\n",
    "-   Consider adding API key restrictions in Google AI Studio for extra security.\n",
    "\n",
    "---\n",
    "\n",
    "**You are now ready to use the Gemini API in your applications!**\n"
   ]
  },
  {
   "cell_type": "markdown",
   "id": "a5f5052f",
   "metadata": {},
   "source": [
    "### 2. SETUP\n"
   ]
  },
  {
   "cell_type": "code",
   "execution_count": null,
   "id": "6094547d",
   "metadata": {},
   "outputs": [],
   "source": [
    "# Install the Gemini API Python package\n",
    "! pip install -U google-generativeai"
   ]
  },
  {
   "cell_type": "markdown",
   "id": "fdaa0120",
   "metadata": {},
   "source": [
    "Import Required Libraries\n"
   ]
  },
  {
   "cell_type": "code",
   "execution_count": null,
   "id": "e66d6939",
   "metadata": {},
   "outputs": [],
   "source": [
    "import google.generativeai as genai\n",
    "import os"
   ]
  },
  {
   "cell_type": "markdown",
   "id": "a9fa3c5b",
   "metadata": {},
   "source": [
    "---\n"
   ]
  },
  {
   "cell_type": "markdown",
   "id": "be686449",
   "metadata": {},
   "source": [
    "### 3. AUTHENTICATION\n"
   ]
  },
  {
   "cell_type": "markdown",
   "id": "b17d1a39",
   "metadata": {},
   "source": [
    "-   Get Your API Key\n",
    "\n",
    "    -   Visit [Google AI Studio](https://ai.google.dev/) and create an API key (Use your own Google accounts).\n",
    "\n",
    "-   Store your API key securely (never share it publicly).\n",
    "\n",
    "-   Set Up the API Key in Your Notebook\n"
   ]
  },
  {
   "cell_type": "code",
   "execution_count": null,
   "id": "83fb7ba1",
   "metadata": {},
   "outputs": [],
   "source": [
    "# Option 1: Set API key directly (not recommended for shared notebooks)\n",
    "API_KEY = \"YOUR_API_KEY_HERE\"\n",
    "\n",
    "# Option 2: Use environment variable for better security\n",
    "os.environ[\"API_KEY\"] = \"YOUR_API_KEY_HERE\""
   ]
  },
  {
   "cell_type": "markdown",
   "id": "e23ff17d",
   "metadata": {},
   "source": [
    "Configure the Gemini CLient\n"
   ]
  },
  {
   "cell_type": "code",
   "execution_count": null,
   "id": "bd3cccc2",
   "metadata": {},
   "outputs": [],
   "source": [
    "genai.configure(api_key=os.environ[\"API_KEY\"])"
   ]
  },
  {
   "cell_type": "markdown",
   "id": "5c9a8de9",
   "metadata": {},
   "source": [
    "---\n"
   ]
  },
  {
   "cell_type": "markdown",
   "id": "2d987c37",
   "metadata": {},
   "source": [
    "### 4. Your First API Call\n"
   ]
  },
  {
   "cell_type": "markdown",
   "id": "a32d4a82",
   "metadata": {},
   "source": [
    "Simple Text Generation Example\n"
   ]
  },
  {
   "cell_type": "code",
   "execution_count": null,
   "id": "6a4d9050",
   "metadata": {},
   "outputs": [],
   "source": [
    "# Create a model instance\n",
    "model = genai.GenerativeModel(\"gemini-2.0-flash\")\n",
    "\n",
    "# Define a prompt\n",
    "prompt = \"Explain how AI works in simple terms.\"\n",
    "\n",
    "# Generate a response\n",
    "response = model.generate_content(prompt)\n",
    "\n",
    "# Display the response\n",
    "print(response.text)"
   ]
  },
  {
   "cell_type": "markdown",
   "id": "8e044a55",
   "metadata": {},
   "source": [
    "---\n"
   ]
  },
  {
   "cell_type": "markdown",
   "id": "a2b116ac",
   "metadata": {},
   "source": [
    "### 5. Experimenting with Prompts\n"
   ]
  },
  {
   "cell_type": "code",
   "execution_count": null,
   "id": "fa602aa5",
   "metadata": {},
   "outputs": [],
   "source": [
    "prompts = [\n",
    "    \"Describe a cat in a few sentences.\",\n",
    "    \"What is the capital of France?\",\n",
    "    \"Summarize the importance of renewable energy.\"\n",
    "]\n",
    "\n",
    "for p in prompts:\n",
    "    response = model.generate_content(p)\n",
    "    print(f\"Prompt: {p}\\nResponse: {response.text}\\n{'-'*40}\")"
   ]
  },
  {
   "cell_type": "markdown",
   "id": "2b568cb9",
   "metadata": {},
   "source": [
    "---\n"
   ]
  },
  {
   "cell_type": "markdown",
   "id": "f858ede1",
   "metadata": {},
   "source": [
    "### 6. Adjusting Generation Parameters\n"
   ]
  },
  {
   "cell_type": "code",
   "execution_count": null,
   "id": "9bdbee30",
   "metadata": {},
   "outputs": [],
   "source": [
    "response = model.generate_content(\n",
    "    \"List three benefits of learning Python.\",\n",
    "    generation_config=genai.types.GenerationConfig(\n",
    "        candidate_count=1,\n",
    "        max_output_tokens=100,\n",
    "        temperature=0.5\n",
    "    )\n",
    ")\n",
    "print(response.text)"
   ]
  },
  {
   "cell_type": "markdown",
   "id": "cfaaa59c",
   "metadata": {},
   "source": [
    "-   temperature: Controls randomness (0 = deterministic, 1 = more creative)\n",
    "-   max_output_tokens: Limits response length\n"
   ]
  },
  {
   "cell_type": "markdown",
   "id": "c20d140a",
   "metadata": {},
   "source": [
    "---\n"
   ]
  },
  {
   "cell_type": "markdown",
   "id": "89189fc2",
   "metadata": {},
   "source": [
    "#### Best Practices\n",
    "\n",
    "-   Never share your API key.\n",
    "-   Use environment variables for sensitive data.\n",
    "-   Respect rate limits and usage policies\n"
   ]
  },
  {
   "cell_type": "markdown",
   "id": "dee29414",
   "metadata": {},
   "source": [
    "---\n"
   ]
  },
  {
   "cell_type": "markdown",
   "id": "a0679307",
   "metadata": {},
   "source": [
    "---\n"
   ]
  },
  {
   "cell_type": "markdown",
   "id": "34eb450f",
   "metadata": {},
   "source": [
    "## Function Calling Example with Gemini API\n"
   ]
  },
  {
   "cell_type": "markdown",
   "id": "0b6299f4",
   "metadata": {},
   "source": [
    "### 1. Define Your Function\n",
    "\n",
    "Let's define a simple function that returns the current time.\n"
   ]
  },
  {
   "cell_type": "code",
   "execution_count": null,
   "id": "562398ff",
   "metadata": {},
   "outputs": [],
   "source": [
    "from datetime import datetime\n",
    "\n",
    "\n",
    "def get_current_time():\n",
    "    \"\"\"Returns the current time as a string.\"\"\"\n",
    "    return datetime.now().strftime(\"%H:%M:%S\")"
   ]
  },
  {
   "cell_type": "markdown",
   "id": "66842a34",
   "metadata": {},
   "source": [
    "---\n"
   ]
  },
  {
   "cell_type": "markdown",
   "id": "47f79bc2",
   "metadata": {},
   "source": [
    "### 2. Register the Function with Gemini\n",
    "\n",
    "Gemini's Python SDK supports function calling via the tools parameter. You need to provide a function schema (using OpenAI function calling schema), and a mapping from function name to the actual Python function.\n"
   ]
  },
  {
   "cell_type": "code",
   "execution_count": null,
   "id": "aea41e31",
   "metadata": {},
   "outputs": [],
   "source": [
    "# Define the function schema\n",
    "function_schema = {\n",
    "    \"name\": \"get_current_time\",\n",
    "    \"description\": \"Returns the current time as a string.\",\n",
    "    \"parameters\": {\n",
    "        \"type\": \"object\",\n",
    "        \"properties\": {},\n",
    "        \"required\": []\n",
    "    }\n",
    "}\n",
    "\n",
    "# Map function name to actual Python function\n",
    "function_map = {\n",
    "    \"get_current_time\": get_current_time\n",
    "}"
   ]
  },
  {
   "cell_type": "markdown",
   "id": "a7ad4634",
   "metadata": {},
   "source": [
    "---\n"
   ]
  },
  {
   "cell_type": "markdown",
   "id": "81fdbe74",
   "metadata": {},
   "source": [
    "### 3. Create the Model with Function Calling Enabled\n"
   ]
  },
  {
   "cell_type": "code",
   "execution_count": null,
   "id": "3d8f3557",
   "metadata": {},
   "outputs": [],
   "source": [
    "model = genai.GenerativeModel(\n",
    "    \"gemini-2.0-flash\",\n",
    "    tools=[function_schema]\n",
    ")"
   ]
  },
  {
   "cell_type": "markdown",
   "id": "c741e47c",
   "metadata": {},
   "source": [
    "---\n"
   ]
  },
  {
   "cell_type": "markdown",
   "id": "e0f4bfac",
   "metadata": {},
   "source": [
    "### 4. Prompt Gemini to Use the Function\n"
   ]
  },
  {
   "cell_type": "code",
   "execution_count": null,
   "id": "6f65324a",
   "metadata": {},
   "outputs": [],
   "source": [
    "# Ask Gemini a question that requires the function\n",
    "prompt = \"What time is it right now?\"\n",
    "\n",
    "response = model.generate_content(\n",
    "    prompt,\n",
    "    tool_config=genai.types.ToolConfig(\n",
    "        function_calling_config=genai.types.FunctionCallingConfig(\n",
    "            functions=function_map\n",
    "        )\n",
    "    )\n",
    ")\n",
    "\n",
    "print(response.text)"
   ]
  },
  {
   "cell_type": "markdown",
   "id": "f1dda88b",
   "metadata": {},
   "source": [
    "---\n"
   ]
  },
  {
   "cell_type": "markdown",
   "id": "86b87e13",
   "metadata": {},
   "source": [
    "### 5. What Happens?\n",
    "\n",
    "-   Gemini will recognize that your prompt (\"What time is it right now?\") matches the function's purpose.\n",
    "\n",
    "    -   It will call your get_current_time function and include the result in its response.\n",
    "\n",
    "-   Notes\n",
    "\n",
    "    1. Function calling is a new and evolving feature. The Gemini Python SDK is being updated frequently, so check the [official documentation](https://ai.google.dev/docs/function_calling) for the latest syntax and capabilities.\n",
    "\n",
    "    2. You can define more complex functions with parameters, and Gemini will extract the arguments from the user's prompt.\n",
    "\n",
    "    3. This is a basic example. For more advanced use (multiple functions, arguments, etc.), see the Gemini [Cookbook](https://github.com/google-gemini/cookbook/blob/main/function_calling/function_calling.ipynb).\n"
   ]
  },
  {
   "cell_type": "markdown",
   "id": "e051051c",
   "metadata": {},
   "source": [
    "---\n"
   ]
  },
  {
   "cell_type": "markdown",
   "id": "0970d911",
   "metadata": {},
   "source": [
    "## Sending an Image to the Gemini API\n"
   ]
  },
  {
   "cell_type": "code",
   "execution_count": null,
   "id": "83d44d47",
   "metadata": {},
   "outputs": [],
   "source": [
    "from PIL import Image"
   ]
  },
  {
   "cell_type": "markdown",
   "id": "d509371a",
   "metadata": {},
   "source": [
    "Load the Receipt\n"
   ]
  },
  {
   "cell_type": "code",
   "execution_count": null,
   "id": "1838241d",
   "metadata": {},
   "outputs": [],
   "source": [
    "def load_image(image_path):\n",
    "    \"\"\"Load and resize image while preserving aspect ratio\"\"\"\n",
    "    with Image.open(image_path) as img:\n",
    "        return img.convert(\"RGB\")  # Convert to RGB format\n",
    "\n",
    "\n",
    "image = load_image(\"Receipts\\1.jpg\")"
   ]
  },
  {
   "cell_type": "markdown",
   "id": "878e4a48",
   "metadata": {},
   "source": [
    "Loading the Model\n"
   ]
  },
  {
   "cell_type": "code",
   "execution_count": null,
   "id": "f6e32816",
   "metadata": {},
   "outputs": [],
   "source": [
    "model = genai.GenerativeModel('gemini-2.0-flash')"
   ]
  },
  {
   "cell_type": "markdown",
   "id": "139f9c39",
   "metadata": {},
   "source": [
    "Generating the Response\n"
   ]
  },
  {
   "cell_type": "code",
   "execution_count": null,
   "id": "dfda91fb",
   "metadata": {},
   "outputs": [],
   "source": [
    "response = model.generate_content(\n",
    "    contents=[\n",
    "        \"Describe this image in detail\",  # Text prompt\n",
    "        image  # Image input\n",
    "    ],\n",
    "    generation_config=genai.types.GenerationConfig(\n",
    "        max_output_tokens=1000\n",
    "    )\n",
    ")\n",
    "\n",
    "print(response.text)"
   ]
  },
  {
   "cell_type": "markdown",
   "id": "3d81672e",
   "metadata": {},
   "source": [
    "-   Try it out with different Receipts\n",
    "-   Try to send multiple images at once and give ina prompt\n"
   ]
  },
  {
   "cell_type": "markdown",
   "id": "1b35c898",
   "metadata": {},
   "source": [
    "---\n"
   ]
  }
 ],
 "metadata": {
  "kernelspec": {
   "display_name": "session2",
   "language": "python",
   "name": "python3"
  },
  "language_info": {
   "name": "python",
   "version": "3.12.8"
  }
 },
 "nbformat": 4,
 "nbformat_minor": 5
}
